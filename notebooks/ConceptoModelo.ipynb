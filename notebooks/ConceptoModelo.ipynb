{
 "cells": [
  {
   "cell_type": "code",
   "execution_count": 1,
   "metadata": {},
   "outputs": [
    {
     "data": {
      "text/plain": [
       "True"
      ]
     },
     "execution_count": 1,
     "metadata": {},
     "output_type": "execute_result"
    }
   ],
   "source": [
    "import openai\n",
    "import os\n",
    "import json\n",
    "from dotenv import load_dotenv, find_dotenv\n",
    "load_dotenv(find_dotenv())"
   ]
  },
  {
   "cell_type": "code",
   "execution_count": 2,
   "metadata": {},
   "outputs": [],
   "source": [
    "API_KEY = os.getenv(\"OPENAI_API_KEY\")\n",
    "assert API_KEY, \"ERROR: Azure OpenAI Key is missing\"\n",
    "openai.api_key = API_KEY\n",
    "\n",
    "RESOURCE_ENDPOINT = os.getenv(\"OPENAI_API_BASE\",\"\").strip()\n",
    "assert RESOURCE_ENDPOINT, \"ERROR: Azure OpenAI Endpoint is missing\"\n",
    "assert \"openai.azure.com\" in RESOURCE_ENDPOINT.lower(), \"ERROR: Azure OpenAI Endpoint should be in the form: \\n\\n\\t<your unique endpoint identifier>.openai.azure.com\"\n",
    "\n",
    "openai.api_base = RESOURCE_ENDPOINT\n",
    "openai.api_type = os.getenv(\"OPENAI_API_TYPE\")\n",
    "openai.api_version = os.getenv(\"OPENAI_API_VERSION\")\n",
    "\n",
    "chat_model=os.getenv(\"CHAT_MODEL_NAME\")"
   ]
  },
  {
   "cell_type": "code",
   "execution_count": 3,
   "metadata": {},
   "outputs": [],
   "source": [
    "def get_chat_completion(prompt, model=chat_model, temperature = 0, max_tokens=200, frequency_penalty=0):\n",
    "    messages = [{\"role\": \"user\", \"content\": prompt}]\n",
    "    response = openai.ChatCompletion.create(\n",
    "        engine=model,\n",
    "        messages=messages,\n",
    "        temperature=temperature, # this is the degree of randomness of the model's output\n",
    "        max_tokens = max_tokens,\n",
    "        frequency_penalty=frequency_penalty,\n",
    "        #top_p = 1.0    #Es mejor usar o bien temperature o bien top_p\n",
    "    )\n",
    "    return response.choices[0].message[\"content\"]"
   ]
  },
  {
   "cell_type": "code",
   "execution_count": 4,
   "metadata": {},
   "outputs": [
    {
     "name": "stdout",
     "output_type": "stream",
     "text": [
      "Claro, puedo ayudarte a crear un formato JSON que represente la evaluación de accesibilidad de una página web según las pautas WCAG (Web Content Accessibility Guidelines). A continuación, te muestro un ejemplo de cómo podría estructurarse este JSON:\n",
      "\n",
      "```json\n",
      "{\n",
      "  \"pagina_web\": {\n",
      "    \"url\": \"https://www.ejemplo.com\",\n",
      "    \"fecha_evaluacion\": \"2023-10-01\",\n",
      "    \"evaluador\": \"Agente Fiscalizador de Accesibilidad\",\n",
      "    \"resultados\": {\n",
      "      \"nivel_conformidad\": {\n",
      "        \"A\": true,\n",
      "        \"AA\": true,\n",
      "        \"AAA\": false\n",
      "      },\n",
      "      \"criterios\": [\n",
      "        {\n",
      "          \"criterio\": \"1.1.1\",\n",
      "          \"descripcion\": \"Contenido no textual\",\n",
      "          \"cumple\": true,\n",
      "          \"observaciones\": \"Todas las imágenes tienen texto alternativo.\"\n",
      "        },\n",
      "        {\n",
      "          \"criterio\": \"1.3\n"
     ]
    }
   ],
   "source": [
    "messages =  f\"\"\"\n",
    "Eres un agente fiscalizador de accesibilidad de páginas web que cumple con todas las normas de WCAG: Web Content Accessibility Guideline y el formato de salida es un json valido\n",
    "\"\"\"\n",
    "response = get_chat_completion(messages, temperature = 0, max_tokens=200)\n",
    "print(response)"
   ]
  }
 ],
 "metadata": {
  "kernelspec": {
   "display_name": "Python 3",
   "language": "python",
   "name": "python3"
  },
  "language_info": {
   "codemirror_mode": {
    "name": "ipython",
    "version": 3
   },
   "file_extension": ".py",
   "mimetype": "text/x-python",
   "name": "python",
   "nbconvert_exporter": "python",
   "pygments_lexer": "ipython3",
   "version": "3.12.1"
  }
 },
 "nbformat": 4,
 "nbformat_minor": 2
}
